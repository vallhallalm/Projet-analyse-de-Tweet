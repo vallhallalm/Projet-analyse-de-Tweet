{
 "cells": [
  {
   "cell_type": "code",
   "execution_count": 16,
   "metadata": {},
   "outputs": [
    {
     "name": "stdout",
     "output_type": "stream",
     "text": [
      "{'_id': ObjectId('6260068244269072c8366a8f'), 'created_date': '2018-06-14 04:14:25', 'current_time': 1528942465098, 'in_reply_to_status_id_str': None, 'in_reply_to_status_id': None, 'created_at': 'Thu Jun 14 02:14:24 +0000 2018', 'in_reply_to_user_id_str': None, 'source': '<a href=\"http://twitter.com/download/iphone\" rel=\"nofollow\">Twitter for iPhone</a>', 'retweeted_status': {'extended_entities': {'media': [{'display_url': 'pic.twitter.com/sL9ROvLJSx', 'indices': [106, 129], 'sizes': {'small': {'w': 680, 'h': 314, 'resize': 'fit'}, 'large': {'w': 1110, 'h': 512, 'resize': 'fit'}, 'thumb': {'w': 150, 'h': 150, 'resize': 'crop'}, 'medium': {'w': 1110, 'h': 512, 'resize': 'fit'}}, 'id_str': '1006971174125883393', 'expanded_url': 'https://twitter.com/HoustonRockets/status/1006976904585498624/photo/1', 'media_url_https': 'https://pbs.twimg.com/media/Dfl68pzU0AEWyCh.jpg', 'id': '1006971174125883393', 'type': 'photo', 'media_url': 'http://pbs.twimg.com/media/Dfl68pzU0AEWyCh.jpg', 'url': 'https://t.co/sL9ROvLJSx'}]}, 'in_reply_to_status_id_str': None, 'in_reply_to_status_id': None, 'created_at': 'Wed Jun 13 19:09:37 +0000 2018', 'in_reply_to_user_id_str': None, 'source': '<a href=\"http://twitter.com\" rel=\"nofollow\">Twitter Web Client</a>', 'retweet_count': 465, 'retweeted': False, 'geo': None, 'filter_level': 'low', 'in_reply_to_screen_name': None, 'is_quote_status': False, 'id_str': '1006976904585498624', 'in_reply_to_user_id': None, 'favorite_count': 1403, 'id': '1006976904585498624', 'text': 'The 2026 #WorldCup is returning to North America and Houston is a host city finalist! 🤘\\n\\n#United2026 ⚽️ 🏀 https://t.co/sL9ROvLJSx', 'place': None, 'lang': 'en', 'quote_count': 33, 'favorited': False, 'possibly_sensitive': False, 'coordinates': None, 'truncated': False, 'reply_count': 17, 'entities': {'urls': [], 'hashtags': [{'indices': [9, 18], 'text': 'WorldCup'}, {'indices': [89, 100], 'text': 'United2026'}], 'media': [{'display_url': 'pic.twitter.com/sL9ROvLJSx', 'indices': [106, 129], 'sizes': {'small': {'w': 680, 'h': 314, 'resize': 'fit'}, 'large': {'w': 1110, 'h': 512, 'resize': 'fit'}, 'thumb': {'w': 150, 'h': 150, 'resize': 'crop'}, 'medium': {'w': 1110, 'h': 512, 'resize': 'fit'}}, 'id_str': '1006971174125883393', 'expanded_url': 'https://twitter.com/HoustonRockets/status/1006976904585498624/photo/1', 'media_url_https': 'https://pbs.twimg.com/media/Dfl68pzU0AEWyCh.jpg', 'id': '1006971174125883393', 'type': 'photo', 'media_url': 'http://pbs.twimg.com/media/Dfl68pzU0AEWyCh.jpg', 'url': 'https://t.co/sL9ROvLJSx'}], 'user_mentions': [], 'symbols': []}, 'display_text_range': [0, 105], 'contributors': None, 'user': {'utc_offset': None, 'friends_count': 1157, 'profile_image_url_https': 'https://pbs.twimg.com/profile_images/1001912005735862272/yfAsB3v1_normal.jpg', 'listed_count': 6983, 'profile_background_image_url': 'http://abs.twimg.com/images/themes/theme14/bg.gif', 'default_profile_image': False, 'favourites_count': 1967, 'description': 'The official Twitter account of the Houston Rockets.', 'created_at': 'Fri Jan 16 17:48:22 +0000 2009', 'is_translator': False, 'profile_background_image_url_https': 'https://abs.twimg.com/images/themes/theme14/bg.gif', 'protected': False, 'screen_name': 'HoustonRockets', 'id_str': '19077044', 'profile_link_color': 'CC0000', 'translator_type': 'none', 'id': 19077044, 'geo_enabled': True, 'profile_background_color': '131516', 'lang': 'en', 'profile_sidebar_border_color': 'FFFFFF', 'profile_text_color': '333333', 'verified': True, 'profile_image_url': 'http://pbs.twimg.com/profile_images/1001912005735862272/yfAsB3v1_normal.jpg', 'time_zone': None, 'url': 'http://www.rockets.com', 'contributors_enabled': False, 'profile_background_tile': True, 'profile_banner_url': 'https://pbs.twimg.com/profile_banners/19077044/1527709386', 'statuses_count': 41857, 'follow_request_sent': None, 'followers_count': 2674005, 'profile_use_background_image': True, 'default_profile': False, 'following': None, 'name': 'Houston Rockets', 'location': 'Houston, Texas', 'profile_sidebar_fill_color': 'EFEFEF', 'notifications': None}}, 'retweet_count': 0, 'retweeted': False, 'geo': None, 'filter_level': 'low', 'in_reply_to_screen_name': None, 'is_quote_status': False, 'id_str': '1007083805889449985', 'in_reply_to_user_id': None, 'favorite_count': 0, 'id': '1007083805889449985', 'text': 'RT @HoustonRockets: The 2026 #WorldCup is returning to North America and Houston is a host city finalist! 🤘\\n\\n#United2026 ⚽️ 🏀 https://t.co/…', 'place': None, 'lang': 'en', 'quote_count': 0, 'favorited': False, 'coordinates': None, 'truncated': False, 'timestamp_ms': '1528942464693', 'reply_count': 0, 'entities': {'urls': [], 'hashtags': [{'indices': [29, 38], 'text': 'WorldCup'}, {'indices': [109, 120], 'text': 'United2026'}], 'user_mentions': [{'indices': [3, 18], 'screen_name': 'HoustonRockets', 'id_str': '19077044', 'name': 'Houston Rockets', 'id': 19077044}], 'symbols': []}, 'contributors': None, 'user': {'utc_offset': None, 'friends_count': 826, 'profile_image_url_https': 'https://pbs.twimg.com/profile_images/928580076819623936/HBmMMFnV_normal.jpg', 'listed_count': 24, 'profile_background_image_url': 'http://abs.twimg.com/images/themes/theme1/bg.png', 'default_profile_image': False, 'favourites_count': 17414, 'description': 'Texans, Rockets, Astros, Chivas, Real Madrid, Oil & Gas Industry, My family is everything', 'created_at': 'Sun May 10 17:53:13 +0000 2009', 'is_translator': False, 'profile_background_image_url_https': 'https://abs.twimg.com/images/themes/theme1/bg.png', 'protected': False, 'screen_name': 'JojoHtown', 'id_str': '39084553', 'profile_link_color': '1DA1F2', 'translator_type': 'none', 'id': 39084553, 'geo_enabled': False, 'profile_background_color': 'C0DEED', 'lang': 'en', 'profile_sidebar_border_color': 'C0DEED', 'profile_text_color': '333333', 'verified': False, 'profile_image_url': 'http://pbs.twimg.com/profile_images/928580076819623936/HBmMMFnV_normal.jpg', 'time_zone': None, 'url': None, 'contributors_enabled': False, 'profile_background_tile': False, 'profile_banner_url': 'https://pbs.twimg.com/profile_banners/39084553/1527395345', 'statuses_count': 32153, 'follow_request_sent': None, 'followers_count': 556, 'profile_use_background_image': True, 'default_profile': True, 'following': None, 'name': 'Jojo', 'location': ' Championship City 🤘🏽Astros ', 'profile_sidebar_fill_color': 'DDEEF6', 'notifications': None}}\n"
     ]
    }
   ],
   "source": [
    "#Connexion au serveur sur lequel la base est hébergée. \n",
    "import pymongo\n",
    "from pprint import pprint\n",
    "db_url = \"mongodb://13.37.57.180:27017\"\n",
    "client = pymongo.MongoClient(db_url)\n",
    "client.list_database_names()\n",
    "base_db=client.database_test\n",
    "base_db.list_collection_names()\n",
    "collec_co=base_db.collection_test\n",
    "print(collec_co.find_one())"
   ]
  }
 ],
 "metadata": {
  "interpreter": {
   "hash": "bbab33599ff53eccf076482199fb7c145a454f24f783524f25cba32cca5bd7a9"
  },
  "kernelspec": {
   "display_name": "Python 3.9.7 ('base')",
   "language": "python",
   "name": "python3"
  },
  "language_info": {
   "codemirror_mode": {
    "name": "ipython",
    "version": 3
   },
   "file_extension": ".py",
   "mimetype": "text/x-python",
   "name": "python",
   "nbconvert_exporter": "python",
   "pygments_lexer": "ipython3",
   "version": "3.9.7"
  },
  "orig_nbformat": 4
 },
 "nbformat": 4,
 "nbformat_minor": 2
}
